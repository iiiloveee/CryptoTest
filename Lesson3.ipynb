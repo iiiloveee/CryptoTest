{
 "cells": [
  {
   "cell_type": "markdown",
   "metadata": {},
   "source": [
    "公钥方面的常见操作"
   ]
  },
  {
   "cell_type": "code",
   "execution_count": 3,
   "metadata": {},
   "outputs": [
    {
     "data": {
      "text/plain": [
       "3"
      ]
     },
     "execution_count": 3,
     "metadata": {},
     "output_type": "execute_result"
    }
   ],
   "source": [
    "# 数据类型在python和sage中是不同的，python中可能是int，sage可能是ring\n",
    "# bit_length是python中int类的一个函数，所以在sage中不能用,sage中是nbit，就是把一个数转换成二进制，看有几位\n",
    "n1 = 5\n",
    "type(n1)\n",
    "n1.nbits()"
   ]
  },
  {
   "cell_type": "code",
   "execution_count": null,
   "metadata": {},
   "outputs": [],
   "source": [
    "n2 = 5\n",
    "type(n2)\n",
    "n2.bit_length()"
   ]
  },
  {
   "cell_type": "code",
   "execution_count": 2,
   "metadata": {},
   "outputs": [
    {
     "data": {
      "text/plain": [
       "<class 'sage.rings.rational.Rational'>"
      ]
     },
     "execution_count": 2,
     "metadata": {},
     "output_type": "execute_result"
    }
   ],
   "source": [
    "n3 = 10/3\n",
    "type(n3)"
   ]
  },
  {
   "cell_type": "code",
   "execution_count": 5,
   "metadata": {},
   "outputs": [
    {
     "name": "stdout",
     "output_type": "stream",
     "text": [
      "12.0000000000000\n",
      "12\n",
      "12.0000000000000\n",
      "12\n",
      "5\n",
      "3\n",
      "<class 'sage.rings.finite_rings.integer_mod_ring.IntegerModRing_generic_with_category'>\n"
     ]
    }
   ],
   "source": [
    "# CC表示复数，花体在sage中就是重复两个字母，随便给一个数，可以看作不同的类型\n",
    "# 把12看作不同类型的元素，输出也是不一样的\n",
    "n = 12\n",
    "print(CC(n))\n",
    "print(QQ(n))\n",
    "print(RR(n))\n",
    "# 也可以是IntegerRing来实现整数环\n",
    "print(ZZ(n))\n",
    "# 7个元素的有限域\n",
    "# 怎样把一个元素把它放到一个代数结构里，直接F(n)\n",
    "F = GF(7)\n",
    "print(F(n))\n",
    "\n",
    "# 整数剩余类环\n",
    "Z9 = Zmod(9)\n",
    "print(Z9(n))\n",
    "print(type(Z9))"
   ]
  },
  {
   "cell_type": "code",
   "execution_count": 7,
   "metadata": {},
   "outputs": [
    {
     "data": {
      "text/plain": [
       "<class 'sage.rings.integer.Integer'>"
      ]
     },
     "execution_count": 7,
     "metadata": {},
     "output_type": "execute_result"
    }
   ],
   "source": [
    "# 同一个功能可能会有好多个函数可以实现\n",
    "# 计算2的5次方模7\n",
    "# 首先声明一个模7的整数环，把n3硬放进z7里\n",
    "n3 = 2^5\n",
    "z7 = Zmod(7)\n",
    "# 得到的结果认为是z7整数环里的元素\n",
    "z7(n3)\n",
    "\n",
    "# 得到的结果也认为是z7整数环里的元素\n",
    "z7(n3) == pow(2,5,7)\n",
    "\n",
    "# 得到的结果也认为是整数环里的元素\n",
    "z7(n3) ==power_mod(2,5,7)\n",
    "# 如果后面的运算都希望是Z7意义下，那就用pow和第一种就行了\n",
    "# 计算出来结果后访问一下type()，看看他们数据类型\n",
    "\n",
    "type(power_mod(2,5,7))\n"
   ]
  },
  {
   "cell_type": "code",
   "execution_count": 8,
   "metadata": {},
   "outputs": [
    {
     "data": {
      "text/plain": [
       "8"
      ]
     },
     "execution_count": 8,
     "metadata": {},
     "output_type": "execute_result"
    }
   ],
   "source": [
    "# 常见的数学运算\n",
    "gcd(3,59)\n",
    "lcm(6,9)\n",
    "# 用23模5\n",
    "mod(23,5)\n",
    "# 阶乘\n",
    "factorial(10)\n",
    "# 欧拉\\phi函数\n",
    "euler_phi(20)"
   ]
  },
  {
   "cell_type": "code",
   "execution_count": null,
   "metadata": {},
   "outputs": [],
   "source": [
    "# 中国剩余定理，求解同余方程组，模数需要两两互素\n",
    "# 第一个列表放余数，第二个列表放模数。意思就是，模3余1，模5余2，模7余1。\n",
    "# 得到的结果是在模105意义下的\n",
    "crt([1,2,1],[3,5,7])"
   ]
  },
  {
   "cell_type": "code",
   "execution_count": 1,
   "metadata": {},
   "outputs": [
    {
     "data": {
      "text/plain": [
       "[2,\n",
       " 3,\n",
       " 5,\n",
       " 7,\n",
       " 11,\n",
       " 13,\n",
       " 17,\n",
       " 19,\n",
       " 23,\n",
       " 29,\n",
       " 31,\n",
       " 37,\n",
       " 41,\n",
       " 43,\n",
       " 47,\n",
       " 53,\n",
       " 59,\n",
       " 61,\n",
       " 67,\n",
       " 71,\n",
       " 73,\n",
       " 79,\n",
       " 83,\n",
       " 89,\n",
       " 97,\n",
       " 101,\n",
       " 103,\n",
       " 107,\n",
       " 109,\n",
       " 113,\n",
       " 127,\n",
       " 131,\n",
       " 137,\n",
       " 139,\n",
       " 149,\n",
       " 151,\n",
       " 157,\n",
       " 163,\n",
       " 167,\n",
       " 173,\n",
       " 179,\n",
       " 181,\n",
       " 191,\n",
       " 193,\n",
       " 197,\n",
       " 199,\n",
       " 211,\n",
       " 223,\n",
       " 227,\n",
       " 229,\n",
       " 233,\n",
       " 239,\n",
       " 241,\n",
       " 251,\n",
       " 257,\n",
       " 263,\n",
       " 269,\n",
       " 271,\n",
       " 277,\n",
       " 281,\n",
       " 283,\n",
       " 293,\n",
       " 307,\n",
       " 311,\n",
       " 313,\n",
       " 317,\n",
       " 331,\n",
       " 337,\n",
       " 347,\n",
       " 349,\n",
       " 353,\n",
       " 359,\n",
       " 367,\n",
       " 373,\n",
       " 379,\n",
       " 383,\n",
       " 389,\n",
       " 397,\n",
       " 401,\n",
       " 409,\n",
       " 419,\n",
       " 421,\n",
       " 431,\n",
       " 433,\n",
       " 439,\n",
       " 443,\n",
       " 449,\n",
       " 457,\n",
       " 461,\n",
       " 463,\n",
       " 467,\n",
       " 479,\n",
       " 487,\n",
       " 491,\n",
       " 499,\n",
       " 503,\n",
       " 509,\n",
       " 521,\n",
       " 523,\n",
       " 541,\n",
       " 547,\n",
       " 557,\n",
       " 563,\n",
       " 569,\n",
       " 571,\n",
       " 577,\n",
       " 587,\n",
       " 593,\n",
       " 599,\n",
       " 601,\n",
       " 607,\n",
       " 613,\n",
       " 617,\n",
       " 619,\n",
       " 631,\n",
       " 641,\n",
       " 643,\n",
       " 647,\n",
       " 653,\n",
       " 659,\n",
       " 661,\n",
       " 673,\n",
       " 677,\n",
       " 683,\n",
       " 691,\n",
       " 701,\n",
       " 709,\n",
       " 719,\n",
       " 727,\n",
       " 733,\n",
       " 739,\n",
       " 743,\n",
       " 751,\n",
       " 757,\n",
       " 761,\n",
       " 769,\n",
       " 773,\n",
       " 787,\n",
       " 797,\n",
       " 809,\n",
       " 811,\n",
       " 821,\n",
       " 823,\n",
       " 827,\n",
       " 829,\n",
       " 839,\n",
       " 853,\n",
       " 857,\n",
       " 859,\n",
       " 863,\n",
       " 877,\n",
       " 881,\n",
       " 883,\n",
       " 887,\n",
       " 907,\n",
       " 911,\n",
       " 919,\n",
       " 929,\n",
       " 937,\n",
       " 941,\n",
       " 947,\n",
       " 953,\n",
       " 967,\n",
       " 971,\n",
       " 977,\n",
       " 983,\n",
       " 991,\n",
       " 997,\n",
       " 1009,\n",
       " 1013,\n",
       " 1019,\n",
       " 1021,\n",
       " 1031,\n",
       " 1033,\n",
       " 1039,\n",
       " 1049,\n",
       " 1051,\n",
       " 1061,\n",
       " 1063,\n",
       " 1069,\n",
       " 1087,\n",
       " 1091,\n",
       " 1093,\n",
       " 1097,\n",
       " 1103,\n",
       " 1109,\n",
       " 1117,\n",
       " 1123,\n",
       " 1129,\n",
       " 1151,\n",
       " 1153,\n",
       " 1163,\n",
       " 1171,\n",
       " 1181,\n",
       " 1187,\n",
       " 1193,\n",
       " 1201,\n",
       " 1213,\n",
       " 1217,\n",
       " 1223]"
      ]
     },
     "execution_count": 1,
     "metadata": {},
     "output_type": "execute_result"
    }
   ],
   "source": [
    "# 找前20个素数\n",
    "# 筛法\n",
    "primes_first_n(200)"
   ]
  },
  {
   "cell_type": "code",
   "execution_count": 12,
   "metadata": {},
   "outputs": [
    {
     "data": {
      "text/plain": [
       "4951760154835678088235319297"
      ]
     },
     "execution_count": 12,
     "metadata": {},
     "output_type": "execute_result"
    }
   ],
   "source": [
    "# 判断是不是素数\n",
    "p = (2^31) - 1;is_prime(p)\n",
    "q = (2^61) - 1;is_prime(q)\n",
    "n = p *q;n"
   ]
  },
  {
   "cell_type": "code",
   "execution_count": 18,
   "metadata": {},
   "outputs": [
    {
     "data": {
      "text/plain": [
       "3818679981455152625779532687"
      ]
     },
     "execution_count": 18,
     "metadata": {},
     "output_type": "execute_result"
    }
   ],
   "source": [
    "# RSA算法\n",
    "p = (2^31) - 1;is_prime(p)\n",
    "q = (2^61) - 1;is_prime(q)\n",
    "n = p *q;n\n",
    "phi = (p - 1)*(q - 1);phi\n",
    "# 随机生成一个范围内的整数\n",
    "e = ZZ.random_element(phi)\n",
    "# 判断e和欧拉函数是不是互素的\n",
    "while gcd(e,phi) != 1:\n",
    "    e = ZZ_random_element(phi)\n",
    "e"
   ]
  },
  {
   "cell_type": "code",
   "execution_count": 21,
   "metadata": {},
   "outputs": [
    {
     "data": {
      "text/plain": [
       "(1, -1605049044271025063914800277, 1237775753633810377119828879)"
      ]
     },
     "execution_count": 21,
     "metadata": {},
     "output_type": "execute_result"
    }
   ],
   "source": [
    "# 求e在模\\phi(n)下的逆\n",
    "# 扩展的欧几里得算法，不仅可以算出来gcd，还可以算出来组合系数\n",
    "\n",
    "bezout = xgcd(e,phi);bezout\n",
    "(gcd,a,b) = xgcd(e,phi);(gcd,a,b) "
   ]
  },
  {
   "cell_type": "code",
   "execution_count": 22,
   "metadata": {},
   "outputs": [
    {
     "data": {
      "text/plain": [
       "3346711108258810012959341423"
      ]
     },
     "execution_count": 22,
     "metadata": {},
     "output_type": "execute_result"
    }
   ],
   "source": [
    "# e和d计算的时候都是在模\\phi(n)意义下的，上面求出来d是负数，所以要再模一下\n",
    "d = mod(bezout[1],phi);d"
   ]
  },
  {
   "cell_type": "code",
   "execution_count": 24,
   "metadata": {},
   "outputs": [
    {
     "data": {
      "text/plain": [
       "3346711108258810012959341423"
      ]
     },
     "execution_count": 24,
     "metadata": {},
     "output_type": "execute_result"
    }
   ],
   "source": [
    "# 求e模\\phi(n)的逆\n",
    "d = inverse_mod(e,phi)\n",
    "d"
   ]
  },
  {
   "cell_type": "code",
   "execution_count": 26,
   "metadata": {},
   "outputs": [
    {
     "data": {
      "text/plain": [
       "72697676798779827668"
      ]
     },
     "execution_count": 26,
     "metadata": {},
     "output_type": "execute_result"
    }
   ],
   "source": [
    "# RSA加密\n",
    "m = \"HELLOWORLD\"\n",
    "# 要先把字符转换为整数，ord(x)把这个字符对应的ASCII码输出出来，是两个十进制位的数字\n",
    "m = [ord(x) for x in m];m\n",
    "# sage用的是little ending\n",
    "# \n",
    "# reverse(m)先把编码顺序倒过来，先是D的编码，然后是L的编码，。。。，最后是H的编码\n",
    "# list(reverse(m)),100，这个100，这是把D的编码乘100的0次方，L的编码乘100的1次方，R的编码乘100的2次方\n",
    "# 所以顺序就变成了H的编码|E的编码|L的编码|。。。，组成了一个大的数字\n",
    "m = ZZ(list(reversed(m)),100);m"
   ]
  },
  {
   "cell_type": "code",
   "execution_count": 27,
   "metadata": {},
   "outputs": [
    {
     "data": {
      "text/plain": [
       "3222650700150484885594741747"
      ]
     },
     "execution_count": 27,
     "metadata": {},
     "output_type": "execute_result"
    }
   ],
   "source": [
    "# 加密\n",
    "c = power_mod(m,e,n);c"
   ]
  },
  {
   "cell_type": "code",
   "execution_count": 28,
   "metadata": {},
   "outputs": [
    {
     "data": {
      "text/plain": [
       "True"
      ]
     },
     "execution_count": 28,
     "metadata": {},
     "output_type": "execute_result"
    }
   ],
   "source": [
    "# 解密\n",
    "power_mod(c,d,n) == m"
   ]
  },
  {
   "cell_type": "code",
   "execution_count": 30,
   "metadata": {},
   "outputs": [
    {
     "name": "stderr",
     "output_type": "stream",
     "text": [
      "/usr/lib/python3/dist-packages/IPython/core/async_helpers.py:78: RuntimeWarning: the factorization returned by qsieve may be incomplete (the factors may not be prime) or even wrong; see qsieve? for details\n",
      "  coro.send(None)\n"
     ]
    },
    {
     "data": {
      "text/plain": [
       "1237940039285380274899124357 * 2475880078570760549798248507"
      ]
     },
     "execution_count": 30,
     "metadata": {},
     "output_type": "execute_result"
    }
   ],
   "source": [
    "# 找一个距离给定数字最近的素数next_prime\n",
    "# 公钥的时候，为了保证安全级别，比如1024比特，2的1024次方肯定不是一个素数，所以想找一个1024比特这个规模的素数，差不多就是2的1024附近的素数\n",
    "n = next_prime(2^90) * next_prime(2^91)\n",
    "# factor分解这个数，给它制定分解方法，qsieve是二次筛法\n",
    "# 二次筛法分解出来的不一定是素数，但一定会有结果，但是对这里的问题没关系，因为这里的n就是两个素数的乘积，分解出来肯定对\n",
    "n.factor(algorithm = \"qsieve\")"
   ]
  },
  {
   "cell_type": "code",
   "execution_count": 31,
   "metadata": {},
   "outputs": [
    {
     "data": {
      "text/plain": [
       "1237940039285380274899124357 * 2475880078570760549798248507"
      ]
     },
     "execution_count": 31,
     "metadata": {},
     "output_type": "execute_result"
    }
   ],
   "source": [
    "# 括号不写就是不指定分解方法，uses PARI at the time of wrting，相当于直接调用PARI这个库里的默认分解算法，支持高精度整数运算、模运算、有限域等等\n",
    "n.factor()"
   ]
  },
  {
   "cell_type": "code",
   "execution_count": 32,
   "metadata": {},
   "outputs": [
    {
     "data": {
      "text/plain": [
       "1237940039285380274899124357 * 2475880078570760549798248507"
      ]
     },
     "execution_count": 32,
     "metadata": {},
     "output_type": "execute_result"
    }
   ],
   "source": [
    "# 调用分解算法ECM\n",
    "n.factor(algorithm=\"ecm\")"
   ]
  },
  {
   "cell_type": "code",
   "execution_count": 34,
   "metadata": {},
   "outputs": [
    {
     "data": {
      "text/plain": [
       "[1099511627791,\n",
       " 2037035976334486086268445688409378161051468393665936250636140449354381299763336706183397533]"
      ]
     },
     "execution_count": 34,
     "metadata": {},
     "output_type": "execute_result"
    }
   ],
   "source": [
    "divisors(n)\n",
    "prime_divisors(n)"
   ]
  },
  {
   "cell_type": "code",
   "execution_count": 33,
   "metadata": {},
   "outputs": [
    {
     "data": {
      "text/plain": [
       "1099511627791 * 2037035976334486086268445688409378161051468393665936250636140449354381299763336706183397533"
      ]
     },
     "execution_count": 33,
     "metadata": {},
     "output_type": "execute_result"
    }
   ],
   "source": [
    "# Hendrik Lenstra研究的ECM适用：n=pq，其中p位较小素数，这样ECM效率很高效，比刚才默认的算法PARI还快\n",
    "# 可以研究特殊的整数分解，比如说相对于另一个数来说，一定有两个比较小的素因子\n",
    "n = next_prime(2^40) * next_prime(2^300)\n",
    "n.factor(algorithm=\"ecm\")"
   ]
  },
  {
   "cell_type": "code",
   "execution_count": 35,
   "metadata": {},
   "outputs": [
    {
     "data": {
      "text/plain": [
       "87"
      ]
     },
     "execution_count": 35,
     "metadata": {},
     "output_type": "execute_result"
    }
   ],
   "source": [
    "# 给整数开根号\n",
    "# nth_root()，参数表示开多少次方\n",
    "y = 87^8\n",
    "x= y.nth_root(8);x"
   ]
  },
  {
   "cell_type": "code",
   "execution_count": 37,
   "metadata": {},
   "outputs": [
    {
     "data": {
      "text/plain": [
       "[65459, 8197, 19968, 64289, 78, 57340, 45569, 1248]"
      ]
     },
     "execution_count": 37,
     "metadata": {},
     "output_type": "execute_result"
    }
   ],
   "source": [
    "# 在模n的意义下开方，得到的结果不唯一\n",
    "# 如果用nth_root()就只输出一个\n",
    "# 如果让参数all=true，就可以输出所有的\n",
    "y = pow(78,888,65537)\n",
    "x = y.nth_root(888);x\n",
    "x= y.nth_root(888,all = true);x"
   ]
  },
  {
   "cell_type": "code",
   "execution_count": 39,
   "metadata": {},
   "outputs": [
    {
     "data": {
      "text/plain": [
       "1234"
      ]
     },
     "execution_count": 39,
     "metadata": {},
     "output_type": "execute_result"
    }
   ],
   "source": [
    "# 声明整数环方法一\n",
    "Z = IntegerRing();Z\n",
    "a = Z(1234);a"
   ]
  },
  {
   "cell_type": "code",
   "execution_count": 1,
   "metadata": {},
   "outputs": [],
   "source": [
    "# 声明整数环方法二\n",
    "Z = Integers()\n",
    "Z = Integers(32)"
   ]
  },
  {
   "cell_type": "code",
   "execution_count": 40,
   "metadata": {},
   "outputs": [
    {
     "data": {
      "text/plain": [
       "70104"
      ]
     },
     "execution_count": 40,
     "metadata": {},
     "output_type": "execute_result"
    }
   ],
   "source": [
    "Z([4,1,7],base=100)"
   ]
  },
  {
   "cell_type": "markdown",
   "metadata": {},
   "source": [
    "有限域和椭圆曲线方面的算术\n",
    "如何找一个不可约多项式？\n",
    "找一个什么样的多项式算起来比较快？\n",
    "\n",
    "多项式如果项数比较少，运算的时候会简单一些\n",
    "F2上不存在只有两项的多项式，至少要有三项\n",
    "\n",
    "正规多项式：这个多项式所有的根恰好构成向量空间的基，则这个多项式为正规多项式，基称为正规基（x^n+x^m+1，这种形式）\n",
    "不可约、正规的、自对偶正规基：可以降低乘法复杂度\n",
    "\n",
    "conway多项式：选定一次多项式就可以了，找扩张或者子域的时候会更方便\n",
    "n(x):本元，本元根alpha，F_(q^n)的乘法群是一个循环群，alpha是这个循环群的生成元\n",
    "子域F_(q^m)\n",
    "\n",
    "选AES那个矩阵原因：本原、稀疏\n",
    "素域：模的是素数"
   ]
  },
  {
   "cell_type": "code",
   "execution_count": 41,
   "metadata": {},
   "outputs": [
    {
     "data": {
      "text/plain": [
       "<class 'sage.rings.finite_rings.finite_field_givaro.FiniteField_givaro_with_category'>"
      ]
     },
     "execution_count": 41,
     "metadata": {},
     "output_type": "execute_result"
    }
   ],
   "source": [
    "# 生成有限域，方法1\n",
    "# 有限域第一个参数，表示有限域大小，一定是素数的方幂，第二个参数，是生成元\n",
    "# 调用的是Givaro这个库\n",
    "k = GF(5^2,'c')\n",
    "type(k)"
   ]
  },
  {
   "cell_type": "code",
   "execution_count": 42,
   "metadata": {},
   "outputs": [
    {
     "data": {
      "text/plain": [
       "<class 'sage.rings.finite_rings.finite_field_pari_ffelt.FiniteField_pari_ffelt_with_category'>"
      ]
     },
     "execution_count": 42,
     "metadata": {},
     "output_type": "execute_result"
    }
   ],
   "source": [
    "# 参数表示3的16次方\n",
    "k = GF((3,16),'c')\n",
    "# 调用的是PARI这个库\n",
    "# 调用不同的库，效率不同\n",
    "type(k)"
   ]
  },
  {
   "cell_type": "code",
   "execution_count": 43,
   "metadata": {},
   "outputs": [
    {
     "data": {
      "text/plain": [
       "<class 'sage.rings.finite_rings.finite_field_ntl_gf2e.FiniteField_ntl_gf2e_with_category'>"
      ]
     },
     "execution_count": 43,
     "metadata": {},
     "output_type": "execute_result"
    }
   ],
   "source": [
    "# 当生成比较大的域，用的是NTL库\n",
    "k = GF(2^160,'c')\n",
    "type(k)"
   ]
  },
  {
   "cell_type": "code",
   "execution_count": 46,
   "metadata": {},
   "outputs": [
    {
     "data": {
      "text/plain": [
       "<class 'sage.rings.finite_rings.finite_field_ntl_gf2e.FiniteField_ntl_gf2e_with_category'>"
      ]
     },
     "execution_count": 46,
     "metadata": {},
     "output_type": "execute_result"
    }
   ],
   "source": [
    "# 有限域生成方法2\n",
    "# GF和finitefield是一样的，括号里表示域的大小\n",
    "# finitefield直接把生成元放在前面\n",
    "# 2^16就认为是比较大的域了，开始调用NTL库了，而2^15调用的是Givora这个库\n",
    "k.<a> = FiniteField(2^15);type(k)\n",
    "k.<a> = FiniteField(2^16);type(k)\n"
   ]
  },
  {
   "cell_type": "code",
   "execution_count": 50,
   "metadata": {},
   "outputs": [
    {
     "data": {
      "text/plain": [
       "y^16 + y^5 + y^3 + y^2 + 1"
      ]
     },
     "execution_count": 50,
     "metadata": {},
     "output_type": "execute_result"
    }
   ],
   "source": [
    "# 有限域的任何元素都有\n",
    "# 看a属于哪个有限域\n",
    "parent(a)\n",
    "# 计算特征多项式：用伴随矩阵来定义，次数等于扩张次数\n",
    "charpoly(a,'y')\n",
    "# 以这个元素为根的次数最低的多项式，称为极小多项式\n",
    "minpoly(a,'y')"
   ]
  },
  {
   "cell_type": "code",
   "execution_count": 3,
   "metadata": {},
   "outputs": [
    {
     "data": {
      "text/plain": [
       "Finite Field in a of size 5^5"
      ]
     },
     "execution_count": 3,
     "metadata": {},
     "output_type": "execute_result"
    }
   ],
   "source": [
    "K.<a> = GF(5^5, name='a', modulus=x^5 - x +1 )\n",
    "K"
   ]
  },
  {
   "cell_type": "code",
   "execution_count": 4,
   "metadata": {},
   "outputs": [
    {
     "data": {
      "text/plain": [
       "1562"
      ]
     },
     "execution_count": 4,
     "metadata": {},
     "output_type": "execute_result"
    }
   ],
   "source": [
    "# 计算有限域的阶\n",
    "a.multiplicative_order()"
   ]
  },
  {
   "cell_type": "code",
   "execution_count": 56,
   "metadata": {},
   "outputs": [
    {
     "data": {
      "text/plain": [
       "3124"
      ]
     },
     "execution_count": 56,
     "metadata": {},
     "output_type": "execute_result"
    }
   ],
   "source": [
    "# 软件自己给选一个convey多项式来生成多项式\n",
    "# 指定一个本原多项式primitive\n",
    "k.<a> = GF(5^5,name='a',modulus='primitive')\n",
    "a.multiplicative_order()"
   ]
  },
  {
   "cell_type": "code",
   "execution_count": 58,
   "metadata": {},
   "outputs": [
    {
     "data": {
      "text/plain": [
       "3*a^4 + 2"
      ]
     },
     "execution_count": 58,
     "metadata": {},
     "output_type": "execute_result"
    }
   ],
   "source": [
    "# 求逆元方法1\n",
    "a^(-1)"
   ]
  },
  {
   "cell_type": "code",
   "execution_count": 59,
   "metadata": {},
   "outputs": [
    {
     "data": {
      "text/plain": [
       "3*a^4 + 2"
      ]
     },
     "execution_count": 59,
     "metadata": {},
     "output_type": "execute_result"
    }
   ],
   "source": [
    "# 求逆元方法2\n",
    "a_inv = 1/a\n",
    "a_inv"
   ]
  },
  {
   "cell_type": "code",
   "execution_count": 63,
   "metadata": {},
   "outputs": [
    {
     "data": {
      "text/plain": [
       "x^5 + 4*x + 3"
      ]
     },
     "execution_count": 63,
     "metadata": {},
     "output_type": "execute_result"
    }
   ],
   "source": [
    "# 看看这个域是不是用convey多项式生成的\n",
    "k.is_conway()\n",
    "# 看看convey多项式具体是什么，也就是有限域的生成元是什么\n",
    "k.modulus()"
   ]
  },
  {
   "cell_type": "markdown",
   "metadata": {},
   "source": [
    "作业：直接求x的逆元，但是由于x是任意的，可能是0，定义一下0的逆是0，其他元素的逆元就直接1/a就可以了\n",
    "指定modulus来生成有限域\n",
    "算完两个复合运算之后，转换为16进制，和书上的映射表对一下"
   ]
  }
 ],
 "metadata": {
  "kernelspec": {
   "display_name": "SageMath 9.5",
   "language": "sage",
   "name": "sagemath"
  },
  "language_info": {
   "codemirror_mode": {
    "name": "ipython",
    "version": 3
   },
   "file_extension": ".py",
   "mimetype": "text/x-python",
   "name": "python",
   "nbconvert_exporter": "python",
   "pygments_lexer": "ipython3",
   "version": "3.10.12"
  }
 },
 "nbformat": 4,
 "nbformat_minor": 2
}
