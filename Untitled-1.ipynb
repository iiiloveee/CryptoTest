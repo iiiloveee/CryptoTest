{
 "cells": [
  {
   "cell_type": "code",
   "execution_count": 1,
   "metadata": {},
   "outputs": [
    {
     "name": "stdout",
     "output_type": "stream",
     "text": [
      "b'gAAAAABl5ShxN5SfTw8u7T2G-VbpplEzxScxegGe6PoHg2RPtCVWYrZ2zFRKRRcW9S8BUUUZyOucfX0oH2h_Jyu874IDH0bPvV-m65Yn1MepQrNtzGnf75wruBYQG2b8xR_0Ygt-hxcA'\n",
      "b'A really secret message. Not for prying eyes.'\n"
     ]
    }
   ],
   "source": [
    "from cryptography.fernet import Fernet\n",
    "\n",
    "key = Fernet.generate_key()\n",
    "f = Fernet(key)\n",
    "token = f.encrypt(b\"A really secret message. Not for prying eyes.\")\n",
    "print(token)\n",
    "print(f.decrypt(token))"
   ]
  },
  {
   "cell_type": "code",
   "execution_count": 2,
   "metadata": {},
   "outputs": [
    {
     "data": {
      "text/plain": [
       "b'this is a test message, this is a test message~'"
      ]
     },
     "execution_count": 2,
     "metadata": {},
     "output_type": "execute_result"
    }
   ],
   "source": [
    "import os\n",
    "from cryptography.hazmat.primitives.ciphers import Cipher, algorithms, modes\n",
    "\n",
    "\n",
    "plaintext = b\"this is a test message, this is a test message~\"\n",
    "\n",
    "# 使用 32bytes 的 key，即使用算法 AES-256-CTR\n",
    "key = os.urandom(32)\n",
    "\n",
    "# AES 算法的 block 大小是固定的 128bits，即 16 bytes, IV 长度需要与 block 一致\n",
    "iv = os.urandom(16)\n",
    "\n",
    "\n",
    "# 1. 发送方加密数据\n",
    "## 构建 AES-256-CTR 的 cipher，然后加密数据，得到密文\n",
    "cipher = Cipher(algorithms.AES(key), modes.CTR(iv))\n",
    "encryptor = cipher.encryptor()\n",
    "ciphertext = encryptor.update(plaintext) + encryptor.finalize()\n",
    "\n",
    "\n",
    "# 2. 发送方将 iv + ciphertext 发送给接收方\n",
    "# 3. 接收方解密数据\n",
    "# 接收方使用自己的 key + 接收到的 iv，构建 cipher，然后解密出原始数据\n",
    "cipher = Cipher(algorithms.AES(key), modes.CTR(iv))\n",
    "decryptor = cipher.decryptor()\n",
    "decryptor.update(ciphertext) + decryptor.finalize()"
   ]
  },
  {
   "cell_type": "code",
   "execution_count": 3,
   "metadata": {},
   "outputs": [
    {
     "data": {
      "text/plain": [
       "b'this is a paintext, this is a paintext~'"
      ]
     },
     "execution_count": 3,
     "metadata": {},
     "output_type": "execute_result"
    }
   ],
   "source": [
    "import os\n",
    "from cryptography.hazmat.primitives.ciphers import Cipher, algorithms, modes\n",
    "\n",
    "\n",
    "plaintext = b\"this is a paintext, this is a paintext~\"\n",
    "key = key = os.urandom(32)\n",
    "nonce = os.urandom(16)\n",
    "\n",
    "algorithm = algorithms.ChaCha20(key, nonce)\n",
    "# ChaCha20 是一个流密码，mode 必须为 None\n",
    "cipher = Cipher(algorithm, mode=None)\n",
    "\n",
    "# 1. 加密\n",
    "encryptor = cipher.encryptor()\n",
    "ct = encryptor.update(plaintext)\n",
    "\n",
    "# 2. 解密\n",
    "decryptor = cipher.decryptor()\n",
    "decryptor.update(ct)"
   ]
  }
 ],
 "metadata": {
  "kernelspec": {
   "display_name": "SageMath 9.5",
   "language": "sage",
   "name": "sagemath"
  },
  "language_info": {
   "codemirror_mode": {
    "name": "ipython",
    "version": 3
   },
   "file_extension": ".py",
   "mimetype": "text/x-python",
   "name": "python",
   "nbconvert_exporter": "python",
   "pygments_lexer": "ipython3",
   "version": "3.10.12"
  }
 },
 "nbformat": 4,
 "nbformat_minor": 2
}
