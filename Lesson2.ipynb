{
 "cells": [
  {
   "cell_type": "code",
   "execution_count": null,
   "metadata": {},
   "outputs": [],
   "source": []
  },
  {
   "cell_type": "code",
   "execution_count": 2,
   "metadata": {},
   "outputs": [
    {
     "data": {
      "text/plain": [
       "-11"
      ]
     },
     "execution_count": 2,
     "metadata": {},
     "output_type": "execute_result"
    }
   ],
   "source": [
    "# 会根据不同的数选择判定是否为素数\n",
    "from sage.all import *\n",
    "\n",
    "is_prime(121)\n",
    "m = matrix([[1,5],[3,4]])\n",
    "det(m)"
   ]
  },
  {
   "cell_type": "markdown",
   "metadata": {},
   "source": [
    "python内核中2^3，是位运算，2=10，3=11，然后做xor\n",
    "sage内核2^3，就是计算2的3次方\n",
    "计算矩阵的特征多项式charpoly\n",
    "极小多项式：把特征多项式分解，看哪些乘起来能得到极小多项式：polynomialRing"
   ]
  },
  {
   "cell_type": "code",
   "execution_count": 9,
   "metadata": {},
   "outputs": [
    {
     "data": {
      "text/plain": [
       "3^2 * 223"
      ]
     },
     "execution_count": 9,
     "metadata": {},
     "output_type": "execute_result"
    }
   ],
   "source": [
    "# 分解整数\n",
    "factor(2007)"
   ]
  },
  {
   "cell_type": "code",
   "execution_count": 10,
   "metadata": {},
   "outputs": [
    {
     "data": {
      "text/plain": [
       "x^2 * (x^2 - 30*x - 80)"
      ]
     },
     "execution_count": 10,
     "metadata": {},
     "output_type": "execute_result"
    }
   ],
   "source": [
    "# 计算矩阵的特征多项式，然后把特征多项式分解\n",
    "A = matrix(4,4, range(16))\n",
    "factor(A.charpoly())"
   ]
  },
  {
   "cell_type": "code",
   "execution_count": 11,
   "metadata": {},
   "outputs": [
    {
     "data": {
      "text/plain": [
       "Multivariate Polynomial Ring in x, y over Integer Ring"
      ]
     },
     "execution_count": 11,
     "metadata": {},
     "output_type": "execute_result"
    }
   ],
   "source": [
    "# 生成多项式环\n",
    "p = PolynomialRing(ZZ, 2, 'x, y')\n",
    "p"
   ]
  },
  {
   "cell_type": "code",
   "execution_count": 12,
   "metadata": {},
   "outputs": [
    {
     "data": {
      "text/plain": [
       "4.60904368661396e175"
      ]
     },
     "execution_count": 12,
     "metadata": {},
     "output_type": "execute_result"
    }
   ],
   "source": [
    "57.1^100"
   ]
  },
  {
   "cell_type": "code",
   "execution_count": 19,
   "metadata": {},
   "outputs": [
    {
     "data": {
      "text/plain": [
       "1.41421356237310"
      ]
     },
     "execution_count": 19,
     "metadata": {},
     "output_type": "execute_result"
    }
   ],
   "source": [
    "# see difference of output\n",
    "# 一个是得到的根号二这个无理数，一个是得到浮点数\n",
    "sqrt(2)\n",
    "sqrt(2.0)"
   ]
  },
  {
   "cell_type": "code",
   "execution_count": 21,
   "metadata": {},
   "outputs": [
    {
     "data": {
      "text/plain": [
       "sin(2)"
      ]
     },
     "execution_count": 21,
     "metadata": {},
     "output_type": "execute_result"
    }
   ],
   "source": [
    "# 一个是得到的表达式的形式，一个是得到浮点数\n",
    "sin(2)\n",
    "sin(2.0)"
   ]
  },
  {
   "cell_type": "code",
   "execution_count": 22,
   "metadata": {},
   "outputs": [
    {
     "data": {
      "text/plain": [
       "[x == -1/2*(b + sqrt(b^2 - 4*a*c))/a, x == -1/2*(b - sqrt(b^2 - 4*a*c))/a]"
      ]
     },
     "execution_count": 22,
     "metadata": {},
     "output_type": "execute_result"
    }
   ],
   "source": [
    "# 求解二次方程的形式解\n",
    "x = var('x'); a = var('a'); b = var('b'); c = var('c');\n",
    "s = solve(a*x**2 + b*x + c == 0, x)\n",
    "s"
   ]
  },
  {
   "cell_type": "code",
   "execution_count": 25,
   "metadata": {},
   "outputs": [
    {
     "name": "stderr",
     "output_type": "stream",
     "text": [
      "/tmp/ipykernel_108984/2515545329.py:11: DeprecationWarning: the function have_latex() is replaced by: from sage.features.latex import latex;latex().is_present()\n",
      "See https://trac.sagemath.org/32650 for details.\n",
      "  have_latex()\n"
     ]
    },
    {
     "data": {
      "text/plain": [
       "FeatureTestResult('latex', True)"
      ]
     },
     "execution_count": 25,
     "metadata": {},
     "output_type": "execute_result"
    }
   ],
   "source": [
    "# sage画图，然后把图转换成latex代码\n",
    "# from sage.misc.html import MathJax\n",
    "from sage.misc.latex import has_latex_attr\n",
    "from sage.misc.latex import have_dvipng\n",
    "from sage.misc.latex import have_latex\n",
    "ss = plot(sin(x) + sin(1.6*x), -9, 9)\n",
    "# show(ss)\n",
    "# latex(sin(x) + sin(1.6*x))\n",
    "# has_latex_attr(ss)\n",
    "# have_dvipng()\n",
    "have_latex()\n",
    "# ss.latex()\n",
    "# latex(ss)"
   ]
  },
  {
   "cell_type": "code",
   "execution_count": 1,
   "metadata": {},
   "outputs": [
    {
     "data": {
      "text/plain": [
       "2568"
      ]
     },
     "execution_count": 1,
     "metadata": {},
     "output_type": "execute_result"
    }
   ],
   "source": [
    "# 求阶乘\n",
    "n = factorial(1000)\n",
    "len(n.digits())"
   ]
  },
  {
   "cell_type": "code",
   "execution_count": 2,
   "metadata": {},
   "outputs": [
    {
     "data": {
      "text/plain": [
       "3.141592653589793238462643383279502884197169399375105820974944592307816406286208998628034825342117068"
      ]
     },
     "execution_count": 2,
     "metadata": {},
     "output_type": "execute_result"
    }
   ],
   "source": [
    "# 计算无理数小数点后多少位\n",
    "# sage里pi就是表示pai\n",
    "N(pi,digits=100)"
   ]
  },
  {
   "cell_type": "code",
   "execution_count": 4,
   "metadata": {},
   "outputs": [
    {
     "data": {
      "text/plain": [
       "(x + y) \\cdot (x^{2} - x y + y^{2}) \\cdot (x^{6} - x^{3} y^{3} + y^{6}) \\cdot (x^{10} - x^{9} y + x^{8} y^{2} - x^{7} y^{3} + x^{6} y^{4} - x^{5} y^{5} + x^{4} y^{6} - x^{3} y^{7} + x^{2} y^{8} - x y^{9} + y^{10}) \\cdot (x^{20} + x^{19} y - x^{17} y^{3} - x^{16} y^{4} + x^{14} y^{6} + x^{13} y^{7} - x^{11} y^{9} - x^{10} y^{10} - x^{9} y^{11} + x^{7} y^{13} + x^{6} y^{14} - x^{4} y^{16} - x^{3} y^{17} + x y^{19} + y^{20}) \\cdot (x^{60} + x^{57} y^{3} - x^{51} y^{9} - x^{48} y^{12} + x^{42} y^{18} + x^{39} y^{21} - x^{33} y^{27} - x^{30} y^{30} - x^{27} y^{33} + x^{21} y^{39} + x^{18} y^{42} - x^{12} y^{48} - x^{9} y^{51} + x^{3} y^{57} + y^{60})"
      ]
     },
     "execution_count": 4,
     "metadata": {},
     "output_type": "execute_result"
    }
   ],
   "source": [
    "# 生成latex代码\n",
    "# 定义一个环\n",
    "R.<x,y> = QQ[]\n",
    "F = factor(x^99 + y^99)\n",
    "F\n",
    "F.expand()\n",
    "latex(F)"
   ]
  }
 ],
 "metadata": {
  "kernelspec": {
   "display_name": "SageMath 9.5",
   "language": "sage",
   "name": "sagemath"
  },
  "language_info": {
   "codemirror_mode": {
    "name": "ipython",
    "version": 3
   },
   "file_extension": ".py",
   "mimetype": "text/x-python",
   "name": "python",
   "nbconvert_exporter": "python",
   "pygments_lexer": "ipython3",
   "version": "3.10.12"
  }
 },
 "nbformat": 4,
 "nbformat_minor": 2
}
