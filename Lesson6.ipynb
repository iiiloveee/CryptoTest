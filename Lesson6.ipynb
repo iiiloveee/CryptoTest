{
 "cells": [
  {
   "cell_type": "code",
   "execution_count": 1,
   "metadata": {},
   "outputs": [
    {
     "name": "stdout",
     "output_type": "stream",
     "text": [
      "CPU times: user 0 ns, sys: 1 µs, total: 1 µs\n",
      "Wall time: 2.38 µs\n"
     ]
    }
   ],
   "source": [
    "# 显示运行时间：%time\n"
   ]
  },
  {
   "cell_type": "code",
   "execution_count": 2,
   "metadata": {},
   "outputs": [
    {
     "data": {
      "text/plain": [
       "0"
      ]
     },
     "execution_count": 2,
     "metadata": {},
     "output_type": "execute_result"
    }
   ],
   "source": [
    "from sage.crypto.boolean_function import BooleanFunction\n",
    "# 定义布尔函数，参数表示8个变元，但是在sage中定义的是零函数\n",
    "f = BooleanFunction(8)\n",
    "# 查看代数标准型\n",
    "f.algebraic_normal_form()"
   ]
  },
  {
   "cell_type": "code",
   "execution_count": 3,
   "metadata": {},
   "outputs": [
    {
     "data": {
      "text/plain": [
       "Boolean function with 3 variables"
      ]
     },
     "execution_count": 3,
     "metadata": {},
     "output_type": "execute_result"
    }
   ],
   "source": [
    "# 直接写一个布尔多项式\n",
    "# 首先定义一个布尔多项式环\n",
    "R.<x,y,z> = BooleanPolynomialRing(3) \n",
    "# 利用xyz定义一个多项式\n",
    "f = x*y     \n",
    "# 把布尔多项式f转换成了布尔函数                      \n",
    "BooleanFunction(f)   "
   ]
  },
  {
   "cell_type": "code",
   "execution_count": null,
   "metadata": {},
   "outputs": [],
   "source": [
    "# 单变元表示\n",
    "# 想定义一个8个变元的布尔函数\n",
    "# 这里假设生成元是a\n",
    "R.<x> = GF(2^8,'a')[] \n",
    "# 在这个布尔多项式环里定义一个单变元布尔多项式\n",
    "# 把多变元转换成单变元，直接查看代数标准型\n",
    "f = BooleanFunction(x + x^3 + x^5) # 返回Tr(x^7)\n",
    "f.algebraic_normal_form()"
   ]
  },
  {
   "cell_type": "code",
   "execution_count": 5,
   "metadata": {},
   "outputs": [
    {
     "data": {
      "text/plain": [
       "(0, 1, 0, 1, 0, 1, 0, 0)"
      ]
     },
     "execution_count": 5,
     "metadata": {},
     "output_type": "execute_result"
    }
   ],
   "source": [
    "# 基于字符串定义，是16进制的\n",
    "f = BooleanFunction('2a')\n",
    "f.truth_table(format='int')\n",
    "# 输出结果就是2（0100倒过来）a的二进制表示"
   ]
  },
  {
   "cell_type": "code",
   "execution_count": 4,
   "metadata": {},
   "outputs": [
    {
     "data": {
      "text/plain": [
       "2"
      ]
     },
     "execution_count": 4,
     "metadata": {},
     "output_type": "execute_result"
    }
   ],
   "source": [
    "# 方框里的数量一定是2的方幂，真值表表示\n",
    "# 真值表和字符串表示对应起来\n",
    "# 把这个8位分成左右两边，分别把4个bit表示成16进制的，注意从由往左看，e(右边4Bit)b(左边4Bit)\n",
    "f = BooleanFunction([1,1,0,1,0,1,1,1])\n",
    "f.algebraic_degree()"
   ]
  },
  {
   "cell_type": "code",
   "execution_count": null,
   "metadata": {},
   "outputs": [],
   "source": [
    "# 计算线性结构\n",
    "f.linear_structures()"
   ]
  },
  {
   "cell_type": "code",
   "execution_count": null,
   "metadata": {},
   "outputs": [],
   "source": [
    "# 判断是否是平衡函数\n",
    "f.is_balanced()"
   ]
  },
  {
   "cell_type": "code",
   "execution_count": null,
   "metadata": {},
   "outputs": [],
   "source": [
    "# 计算非线性度\n",
    "f.nonlinearity()"
   ]
  },
  {
   "cell_type": "code",
   "execution_count": null,
   "metadata": {},
   "outputs": [],
   "source": [
    "# 计算绝对walsh谱\n",
    "f.absolute_walsh_spectrum()\n",
    "# 输出的是字典，key是计算出来的绝对walsh谱的值，value是计算walsh时的w"
   ]
  },
  {
   "cell_type": "code",
   "execution_count": null,
   "metadata": {},
   "outputs": [],
   "source": [
    "# 判断是否是bent函数\n",
    "f.is_bent()"
   ]
  },
  {
   "cell_type": "code",
   "execution_count": null,
   "metadata": {},
   "outputs": [],
   "source": [
    "# 计算绝对指标\n",
    "f.absolute_indicator()"
   ]
  },
  {
   "cell_type": "code",
   "execution_count": null,
   "metadata": {},
   "outputs": [],
   "source": [
    "# 计算绝对自相关值，看看最大的和绝对指标是不是一样的\n",
    "f.absolute_autocorrelation()\n",
    "# key:是计算结果，也就是相关值，value是w"
   ]
  },
  {
   "cell_type": "code",
   "execution_count": null,
   "metadata": {},
   "outputs": [],
   "source": [
    "# 计算代数免疫度，annihilator零化子=true，会把零化子输出出来\n",
    "f.algebraic_immunity(annihilator=True)"
   ]
  },
  {
   "cell_type": "code",
   "execution_count": null,
   "metadata": {},
   "outputs": [],
   "source": [
    "# 计算相关免疫阶\n",
    "f.correlation_immunity()"
   ]
  },
  {
   "cell_type": "code",
   "execution_count": null,
   "metadata": {},
   "outputs": [],
   "source": [
    "# 实现了很多密码算法中用的S盒\n",
    "from sage.crypto.sboxes import AES\n",
    "# 计算0对应的S盒输出是什么，0是长度为8的字节\n",
    "AES(0)"
   ]
  }
 ],
 "metadata": {
  "kernelspec": {
   "display_name": "SageMath 9.5",
   "language": "sage",
   "name": "sagemath"
  },
  "language_info": {
   "codemirror_mode": {
    "name": "ipython",
    "version": 3
   },
   "file_extension": ".py",
   "mimetype": "text/x-python",
   "name": "python",
   "nbconvert_exporter": "python",
   "pygments_lexer": "ipython3",
   "version": "3.10.12"
  }
 },
 "nbformat": 4,
 "nbformat_minor": 2
}
